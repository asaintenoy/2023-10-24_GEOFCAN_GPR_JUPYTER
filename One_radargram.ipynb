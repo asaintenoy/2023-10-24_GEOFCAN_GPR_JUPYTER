{
 "cells": [
  {
   "cell_type": "markdown",
   "metadata": {},
   "source": [
    "# Lecture, visualisation et traitements de radargramme\n",
    "\n",
    "(développé à l'Université Paris Saclay par Albane Saintenoy avec l'aide d'Emmanuel Léger, Simon Védrine, Jean-Michel Friedt, Samuel Lelièvre et Nicolas Thiéry)\n",
    "\n",
    "<img src=./20230322_095856.jpg width=\"400\" height=\"800\" />"
   ]
  },
  {
   "cell_type": "markdown",
   "metadata": {},
   "source": [
    "Cette première cellule de code jupyter permet d'importer les librairies et les fonctions prédéfinies nécessaires à la lecture, visualisation et traitement de radargramme. Les fonctions sont dans les fichiers utils.py et processing_tools.py placés dans le dossier où se trouve cette feuille de calculs."
   ]
  },
  {
   "cell_type": "code",
   "execution_count": 7,
   "metadata": {},
   "outputs": [],
   "source": [
    "from utils import *\n",
    "from processing_tools import *\n",
    "from ipywidgets import interact, IntSlider, FloatSlider, FloatLogSlider\n",
    "import pandas as pd\n",
    "import os.path\n",
    "import numpy as np\n",
    "import readgssi.functions\n",
    "from readgssi import readgssi\n",
    "from mpl_toolkits.axes_grid1 import make_axes_locatable\n",
    "import warnings\n",
    "warnings.filterwarnings('ignore')\n",
    "warnings.warn(\"WARNING\")\n",
    "plt.rcParams.update({'font.size': 22})"
   ]
  },
  {
   "cell_type": "markdown",
   "metadata": {},
   "source": [
    "La fonction ci-après permet de tenir compte de la numérotation particulière de chaque fichier de données, lorsqu'il y en a plus que 10. Elle pourrait être mise dans le fichier utils.py mais elle est pratique à avoir sous la main si besoin de s'adapter au cas particulier des radargrammes à traiter."
   ]
  },
  {
   "cell_type": "code",
   "execution_count": 2,
   "metadata": {},
   "outputs": [],
   "source": [
    "def lecture(path, ip):\n",
    "    '''fonction de lecture des fichiers de données'''\n",
    "    num_profil = ip\n",
    "    if num_profil < 10 :\n",
    "        filename = path + \"FILE__00\" + str(num_profil) + \".DZT\"\n",
    "    else :\n",
    "        filename = path + \"FILE__0\" + str(num_profil) + \".DZT\"\n",
    "    hdr, arrs, gps = readgssi.readgssi(infile = filename, verbose=None, zero=[0])\n",
    "    data = arrs[0]\n",
    "    return data"
   ]
  },
  {
   "cell_type": "markdown",
   "metadata": {},
   "source": [
    "## Lecture d'un fichier de données"
   ]
  },
  {
   "cell_type": "markdown",
   "metadata": {},
   "source": [
    "Schéma des acquisitions :\n",
    "<img src=./notes_terrainG2.jpg width=\"400\" height=\"800\" />\n",
    "\n",
    "À partir de ce schéma, on peut mettre à jour la longueur des profils et lire le premier profil du dossier de données. Ne pas faire attention aux messages WARNING de la commande de lecture readgssi. Les format de données que l'on peut utiliser son ASCII, HDF5 (SORTIES GPRMAX), DZT (GSSI) et RD3 (RAMAC MALA). "
   ]
  },
  {
   "cell_type": "code",
   "execution_count": 9,
   "metadata": {},
   "outputs": [
    {
     "data": {
      "text/plain": [
       "5"
      ]
     },
     "execution_count": 9,
     "metadata": {},
     "output_type": "execute_result"
    }
   ],
   "source": [
    "a=3+2\n",
    "a"
   ]
  },
  {
   "cell_type": "code",
   "execution_count": 3,
   "metadata": {},
   "outputs": [
    {
     "name": "stdout",
     "output_type": "stream",
     "text": [
      "2024-02-11 19:48:18 - WARNING: no DZG file found for GPS input\n",
      "--------------------WARNING - PLEASE READ---------------------\n",
      "2024-02-11 19:48:18 - WARNING: could not read frequency for antenna name \"'HS350US'\"\n",
      "2024-02-11 19:48:18 - WARNING: trying to use frequencies of None MHz (estimated)...\n",
      "2024-02-11 19:48:18 - more info: rh_ant=['HS350US', None, None, None]\n",
      "2024-02-11 19:48:18 -            known_ant=[False, None, None, None]\n",
      "2024-02-11 19:48:18 - please submit a bug report with this warning, the antenna name and frequency\n",
      "2024-02-11 19:48:18 - at https://github.com/iannesbitt/readgssi/issues/new\n",
      "2024-02-11 19:48:18 - or send via email to ian (dot) nesbitt (at) gmail (dot) com.\n",
      "2024-02-11 19:48:18 - if possible, please attach a ZIP file with the offending DZT inside.\n",
      "--------------------------------------------------------------\n"
     ]
    }
   ],
   "source": [
    "longueur = 30 #longueur du profil en m\n",
    "nombre_de_profils = 57\n",
    "#Lecture du fichier de données\n",
    "path = \"/home/sainteno/Donnees/2023/Hautefeuille/RadarG2/\"\n",
    "filename = path + \"FILE__001.DZT\"\n",
    "\n",
    "hdr, arrs, gps = readgssi.readgssi(infile = filename, antfreq=None, verbose=False, zero=[0])\n",
    "dt = hdr['ns_per_zsample']*10**9\n",
    "rh_ant = hdr['rh_ant']\n",
    "timezero_acq = hdr['rhf_position']\n",
    "\n",
    "data = arrs[0]\n",
    "ns, ntr = data.shape\n",
    "dx = longueur/ntr\n",
    "dx_dt = dx, dt "
   ]
  },
  {
   "cell_type": "markdown",
   "metadata": {},
   "source": [
    "Affichons les différents paramètres d'acquisition du premier radargramme"
   ]
  },
  {
   "cell_type": "code",
   "execution_count": 4,
   "metadata": {},
   "outputs": [
    {
     "name": "stdout",
     "output_type": "stream",
     "text": [
      "Nombre de traces = 1779\n",
      "Pas spatial = 0.016863406408094434 m\n",
      "Pas temporel = 0.15638075430393122 ns\n",
      "Antenne utilisée :  HS350US\n",
      "timezero_acquisition = -8.88888931274414 ns\n"
     ]
    }
   ],
   "source": [
    "print('Nombre de traces =', ntr)\n",
    "print('Pas spatial =', dx, 'm')\n",
    "print('Pas temporel =', dt, 'ns')\n",
    "print(\"Antenne utilisée : \", rh_ant[0])\n",
    "print('timezero_acquisition =', timezero_acq, 'ns')"
   ]
  },
  {
   "cell_type": "markdown",
   "metadata": {},
   "source": [
    "## Visualisation du radargramme brut"
   ]
  },
  {
   "cell_type": "markdown",
   "metadata": {},
   "source": [
    "Affichons le radargramme brut, sans aucun traitement. Vous pouvez changer la valeur clip, qui joue sur l'échelle de couleur. Quand clip=0.3, la barre de couleur est entre -0.3 amplitude max et +0.3 amplitude max. Plus vous diminuer cette valeur, plus les grandes amplitudes sont saturées en couleur, mais plus vous faites apparaître les détails plus tardifs."
   ]
  },
  {
   "cell_type": "code",
   "execution_count": 5,
   "metadata": {},
   "outputs": [
    {
     "data": {
      "application/vnd.jupyter.widget-view+json": {
       "model_id": "df82e5dec521408db52ac12cd0919a62",
       "version_major": 2,
       "version_minor": 0
      },
      "text/plain": [
       "interactive(children=(FloatLogSlider(value=0.3, description='clip', max=0.0, min=-5.0, step=0.5), Output()), _…"
      ]
     },
     "metadata": {},
     "output_type": "display_data"
    }
   ],
   "source": [
    "clip_default = 0.3\n",
    "@interact\n",
    "def f(clip=FloatLogSlider(value=clip_default, min=-5, max=0, step=.5)):\n",
    "    plot_radargram(data, dx_dt, clip)"
   ]
  },
  {
   "cell_type": "markdown",
   "metadata": {},
   "source": [
    "Regardons maintenant les traces qui composent ce radargramme. Vous pouvez changer le numéro n de la trace à afficher. L'amplitude du champ électrique enregistrée au cours du temps est marquée par une onde directe de forte amplitude en début de trace suivi d'une décroissance plus ou moins rapide au cours du temps. "
   ]
  },
  {
   "cell_type": "code",
   "execution_count": 6,
   "metadata": {},
   "outputs": [
    {
     "data": {
      "application/vnd.jupyter.widget-view+json": {
       "model_id": "608a104172fd40e0beebb836e4b3b977",
       "version_major": 2,
       "version_minor": 0
      },
      "text/plain": [
       "interactive(children=(IntSlider(value=10, description='n', max=1779, min=1), Output()), _dom_classes=('widget-…"
      ]
     },
     "metadata": {},
     "output_type": "display_data"
    }
   ],
   "source": [
    "n_default = 10\n",
    "@interact\n",
    "def f(n=IntSlider(value=n_default, min=1, max=ntr, step=1)):\n",
    "    fig, ax = plt.subplots(figsize=(5, 10))\n",
    "    ax.plot(data[:, n-1], np.arange(ns)*dt)\n",
    "    plt.ylabel('Temps (ns)')\n",
    "    plt.xlabel('Amplitude')\n",
    "    plt.ylim(ns*dt, 0)\n",
    "    plt.minorticks_on()\n",
    "    plt.grid(which='major', linestyle='-', linewidth='0.5', color='green')\n",
    "    plt.grid(which='minor', linestyle=':', linewidth='0.5', color='black')\n",
    "    return\n"
   ]
  },
  {
   "cell_type": "markdown",
   "metadata": {},
   "source": [
    "Regardons ce qui se passe lorsque l'on tronque les traces de tout le signal qui arrive avant la valeur initiale timezero_acq qui est ajusté sur le temps d'arrivée du premier minimum de l'amplitude de l'onde directe. On peut décider de prendre un autre temps zéros comme temps de référence sur la trace. "
   ]
  },
  {
   "cell_type": "code",
   "execution_count": 9,
   "metadata": {},
   "outputs": [
    {
     "data": {
      "application/vnd.jupyter.widget-view+json": {
       "model_id": "d3e5f6643c5a41bea1a9ad645527a21d",
       "version_major": 2,
       "version_minor": 0
      },
      "text/plain": [
       "interactive(children=(FloatSlider(value=8.88888931274414, description='t0', max=20.0, step=0.15638075430393122…"
      ]
     },
     "metadata": {},
     "output_type": "display_data"
    }
   ],
   "source": [
    "# Choix du temps t0\n",
    "t0_default =  np.abs(timezero_acq) # en ns\n",
    "clip = 0.3\n",
    "@interact\n",
    "def f(t0 = FloatSlider(value=t0_default, min=0.0, max=20, step=dt)):\n",
    "    global data_t0\n",
    "    data_t0 = time_zero(data, dx_dt, t0)\n",
    "    plot_radargram(data_t0, dx_dt, clip)"
   ]
  },
  {
   "cell_type": "code",
   "execution_count": 10,
   "metadata": {},
   "outputs": [],
   "source": [
    "# Sauvons la valeur choisie:\n",
    "t0 = np.abs(timezero_acq)"
   ]
  },
  {
   "cell_type": "markdown",
   "metadata": {},
   "source": [
    "## Atténuation de l'onde directe"
   ]
  },
  {
   "cell_type": "markdown",
   "metadata": {},
   "source": [
    "Plusieurs traitements existent pour \"retirer\" l'onde directe pour pouvoir mettre en évidence d'éventuelles réflexions \"cachées\" dessous. Nous allons regarder le retrait de la trace moyenne, puis le filtrage par valeurs singulières (SVD filter)."
   ]
  },
  {
   "cell_type": "code",
   "execution_count": 11,
   "metadata": {},
   "outputs": [
    {
     "data": {
      "application/vnd.jupyter.widget-view+json": {
       "model_id": "f194eda735954d04abadbaac791756cb",
       "version_major": 2,
       "version_minor": 0
      },
      "text/plain": [
       "interactive(children=(FloatLogSlider(value=0.3, description='clip', max=0.0, min=-5.0, step=0.5), Output()), _…"
      ]
     },
     "metadata": {},
     "output_type": "display_data"
    }
   ],
   "source": [
    "# Retrait de la trace moyenne\n",
    "data_t0m = mean_tr_rm(data_t0)\n",
    "clip_default = 0.3\n",
    "@interact\n",
    "def f(clip=FloatLogSlider(value=clip_default, min=-5, max=0, step=.5)):\n",
    "    plot_radargram(data_t0m, dx_dt, clip)"
   ]
  },
  {
   "cell_type": "code",
   "execution_count": 13,
   "metadata": {},
   "outputs": [
    {
     "data": {
      "application/vnd.jupyter.widget-view+json": {
       "model_id": "cb368ecca4f942b3b642a9cfb3e74d6e",
       "version_major": 2,
       "version_minor": 0
      },
      "text/plain": [
       "interactive(children=(IntSlider(value=1, description='SVmin', max=455), IntSlider(value=200, description='SVma…"
      ]
     },
     "metadata": {},
     "output_type": "display_data"
    }
   ],
   "source": [
    "# Filtrage par SVD\n",
    "SVmin_default = 1\n",
    "SVmax_default = 200\n",
    "clip_default=0.3\n",
    "ns, ntr = data_t0.shape\n",
    "@interact\n",
    "def f(SVmin=IntSlider(value=SVmin_default, min=0, max=ns-1, step=1), \n",
    "      SVmax=IntSlider(value=SVmax_default, min=1, max=ns, step=1),\n",
    "      clip=FloatLogSlider(value=clip_default, min=-5, max=0, step=.5)):\n",
    "    global dataSVD\n",
    "    dataSVD = filt_SVD(data_t0, ns, ntr, SVmin, SVmax)\n",
    "    plot_radargram(dataSVD, dx_dt, clip)"
   ]
  },
  {
   "cell_type": "code",
   "execution_count": 14,
   "metadata": {},
   "outputs": [],
   "source": [
    "#Sauvons les limites du filtrage SVD\n",
    "SVmin = 2\n",
    "SVmax = 200"
   ]
  },
  {
   "cell_type": "markdown",
   "metadata": {},
   "source": [
    "## Application d'un gain"
   ]
  },
  {
   "cell_type": "markdown",
   "metadata": {},
   "source": [
    "Même après retrait de l'onde directe, il est toujours difficile de voir les réflexions tardives sans saturer les amplitudes des réflexions qui arrivent tôt. Pour améliorer cela, nous allons multiplier chaque trace par une fonction \"gain\" qui vaut 1 sur les temps d'arrivée pour lesquels les réflexions sont d'amplitude suffisante, et qui vaut une valeur supérieure à 1 pour les plus tardive (après $t_0$). Nous pouvons utiliser une fonction 'gain' linéaire d'équation\n",
    "$$ g_{lin}(t) = a (t - t_0) + 1\\ si\\ t \\geq t_0$$ \n",
    "ou exponentielle d'équation\n",
    "$$ g_{exp}(t) =  a (exp^{(b*(t-t_0))} - 1) + 1\\ si\\ t \\geq t_0$$\n",
    "\n",
    "Dans la cellule ci-dessous, vous pouvez tester différentes fonctions gain en modifiant les paramètres. "
   ]
  },
  {
   "cell_type": "code",
   "execution_count": 15,
   "metadata": {},
   "outputs": [
    {
     "data": {
      "application/vnd.jupyter.widget-view+json": {
       "model_id": "080d47ac3360498faa6d55cbfc842f00",
       "version_major": 2,
       "version_minor": 0
      },
      "text/plain": [
       "interactive(children=(IntSlider(value=5, description='a', max=20, min=1), FloatSlider(value=0.08, description=…"
      ]
     },
     "metadata": {},
     "output_type": "display_data"
    }
   ],
   "source": [
    "#Fonction gain\n",
    "data = np.squeeze(np.asarray(dataSVD))   #data_t0\n",
    "ns, ntr = np.shape(data)\n",
    "a_default, b_default = 5, 0.08\n",
    "tw0_default = 10\n",
    "clip_default = .3\n",
    "n=10 #numéro de la trace affichée ci-après\n",
    "@interact\n",
    "def f(a=IntSlider(value=a_default, min=1, max=20, step=1),\n",
    "      b=FloatSlider(value=b_default, min=0.001, max=1, step=0.02),\n",
    "      tw0=FloatSlider(value=tw0_default, min=0, max=ns*dt, step=10*dt),\n",
    "      clip=FloatLogSlider(value=clip_default, min=-5, max=0, step=.5)):\n",
    "    global data_g\n",
    "    #data_g, fgain = user_gain(data, dx_dt, \"linear\", (a, b), (tw0, ns*dt), return_fgain=True)\n",
    "    data_g, fgain = user_gain(data, dx_dt, \"exponential\", (a, b), (tw0, ns*dt), return_fgain=True)\n",
    "    \n",
    "    n_default = 15\n",
    "    fig, ax = plt.subplots(nrows=1, ncols=3,figsize=(15, 7))\n",
    "    ax[0].plot(data[:, n-1], np.arange(len(data))*dt)\n",
    "    ax[0].tick_params(labelcolor='r', labelsize='large', width=3)\n",
    "    ax[0].grid(True)\n",
    "    ax[0].set_ylabel('Temps (ns)')\n",
    "    ax[0].set_xlabel('Amplitude')\n",
    "    ax[0].set_ylim(ns*dt, 0)\n",
    "    ax[0].set_yticks(np.arange(0, ns*dt, step=10))\n",
    "    \n",
    "    ax[1].plot(fgain, np.arange(len(data_t0))*dt)\n",
    "    ax[1].tick_params(labelcolor='r', labelsize='large', width=3)\n",
    "    ax[1].grid(True)\n",
    "    ax[1].set_ylabel('Temps (ns)')\n",
    "    ax[1].set_xlabel('Amplitude')\n",
    "    ax[1].set_ylim(ns*dt, 0)\n",
    "    ax[1].set_yticks(np.arange(0, ns*dt, step=10))\n",
    "    \n",
    "    ax[2].plot(data_g[:, n-1], np.arange(len(data))*dt)\n",
    "    ax[2].tick_params(labelcolor='r', labelsize='large', width=3)\n",
    "    ax[2].grid(True)\n",
    "    ax[2].set_ylabel('Temps (ns)')\n",
    "    ax[2].set_xlabel('Amplitude')\n",
    "    ax[2].set_ylim(ns*dt, 0)\n",
    "    ax[2].set_yticks(np.arange(0, ns*dt, step=10))\n",
    "    \n",
    "    fig2, ax2 = plt.subplots(figsize=(20, 6))\n",
    "    t = np.linspace(0, 1, ns) * (len(data_t0) * dt)\n",
    "    x = np.linspace(0, 1, ntr) * (ntr * dx)\t\n",
    "    ims = ax2.imshow(data_g, extent=[np.amin(x), np.amax(x), np.amax(t), np.amin(t)], interpolation='nearest',\n",
    "                     aspect='auto', cmap='seismic', \n",
    "                     vmin=-np.amax(abs(data_g)*clip), vmax=np.amax(abs(data_g)*clip))\n",
    "    plt.xlabel('Distance [m]')\n",
    "    plt.ylabel('Two-way travel time [ns]')\n",
    "    ax2.grid('both')\n",
    "    plt.minorticks_on()\n",
    "    plt.grid(which='major', linestyle='-', linewidth='0.5', color='green')\n",
    "    plt.grid(which='minor', linestyle=':', linewidth='0.5', color='black')\n",
    "    cbar = fig2.colorbar(ims)\n",
    "    cbar.ax.set_ylabel('Amplitude')"
   ]
  },
  {
   "cell_type": "code",
   "execution_count": 16,
   "metadata": {},
   "outputs": [],
   "source": [
    "vmin=-np.amax(abs(data_g)*clip)\n",
    "vmax=np.amax(abs(data_g)*clip)"
   ]
  },
  {
   "cell_type": "code",
   "execution_count": 17,
   "metadata": {},
   "outputs": [],
   "source": [
    "# Sauvons les valeurs des param de gain choisis:\n",
    "a = 5\n",
    "b = 0.08\n",
    "tw0 = 10\n",
    "clip = 0.3"
   ]
  },
  {
   "cell_type": "markdown",
   "metadata": {},
   "source": [
    "#### Regardons les autres radargrammes avec ces paramètres"
   ]
  },
  {
   "cell_type": "code",
   "execution_count": 18,
   "metadata": {},
   "outputs": [
    {
     "data": {
      "application/vnd.jupyter.widget-view+json": {
       "model_id": "95f403ad15154ef5828ab38b49a99959",
       "version_major": 2,
       "version_minor": 0
      },
      "text/plain": [
       "interactive(children=(IntSlider(value=1, description='num_profil', max=57, min=1), Output()), _dom_classes=('w…"
      ]
     },
     "metadata": {},
     "output_type": "display_data"
    }
   ],
   "source": [
    "num_profil_default = 1\n",
    "\n",
    "@interact\n",
    "def f(num_profil = IntSlider(value=num_profil_default, min=1, max=nombre_de_profils, step=1)):\n",
    "    #Lecture du fichier de données num_profil\n",
    "    data = lecture(path, num_profil)\n",
    "    if (num_profil % 2) == 0:\n",
    "        print(\"Le profil {0} est paire donc on inverse car trajet retour\".format(num_profil))\n",
    "        data =  np.fliplr(data)\n",
    "    else:\n",
    "       print(\"Le profil {0} est impaire donc on l'inverse pas\".format(num_profil)) \n",
    "    data_t0 = time_zero(data, dx_dt, t0)  \n",
    "    ns, ntr = np.shape(data_t0)\n",
    "    dataSVD = filt_SVD(data_t0, ns, ntr, SVmin, SVmax) \n",
    "    data = np.squeeze(np.asarray(dataSVD))   \n",
    "    data_g, fgain = user_gain(data, dx_dt, \"exponential\", (a, b), (tw0, ns*dt), return_fgain=True)\n",
    "    \n",
    "    fig, ax = plt.subplots(figsize=(20, 6))\n",
    "    t = np.linspace(0, 1, ns) * (ns * dt)\n",
    "    x = np.linspace(0, 1, ntr) * (ntr * dx)\t\n",
    "    ims = ax.imshow(data_g, extent=[np.amin(x), np.amax(x), np.amax(t), np.amin(t)], interpolation='nearest',\n",
    "                    aspect='auto', cmap='seismic', vmin=vmin, vmax=vmax)\n",
    "    plt.xlabel('Distance [m]')\n",
    "    plt.ylabel('Two-way travel time [ns]')\n",
    "    ax.grid('both')\n",
    "    plt.minorticks_on()\n",
    "    plt.grid(which='major', linestyle='-', linewidth='0.5', color='green')\n",
    "    plt.grid(which='minor', linestyle=':', linewidth='0.5', color='black')\n",
    "    cbar = fig.colorbar(ims)\n",
    "    cbar.ax.set_ylabel('Amplitude')\n",
    " "
   ]
  },
  {
   "cell_type": "markdown",
   "metadata": {},
   "source": [
    "## Analyse de vitesse"
   ]
  },
  {
   "cell_type": "markdown",
   "metadata": {},
   "source": [
    "Analysons de plus prêt une hyperbole de diffraction observée sur le radargramme de votre choix. La forme de cette hyperbole dépend la vitesse de propagation de l'onde em. Elle nous permet de faire une analyse de vitesse."
   ]
  },
  {
   "cell_type": "code",
   "execution_count": 19,
   "metadata": {},
   "outputs": [
    {
     "name": "stdout",
     "output_type": "stream",
     "text": [
      "2023-12-07 13:44:43 - WARNING: no DZG file found for GPS input\n",
      "--------------------WARNING - PLEASE READ---------------------\n",
      "2023-12-07 13:44:43 - WARNING: could not read frequency for antenna name \"'HS350US'\"\n",
      "2023-12-07 13:44:43 - WARNING: trying to use frequencies of None MHz (estimated)...\n",
      "2023-12-07 13:44:43 - more info: rh_ant=['HS350US', None, None, None]\n",
      "2023-12-07 13:44:43 -            known_ant=[False, None, None, None]\n",
      "2023-12-07 13:44:43 - please submit a bug report with this warning, the antenna name and frequency\n",
      "2023-12-07 13:44:43 - at https://github.com/iannesbitt/readgssi/issues/new\n",
      "2023-12-07 13:44:43 - or send via email to ian (dot) nesbitt (at) gmail (dot) com.\n",
      "2023-12-07 13:44:43 - if possible, please attach a ZIP file with the offending DZT inside.\n",
      "--------------------------------------------------------------\n",
      "Le profil 19 est impaire donc on l'inverse pas\n"
     ]
    }
   ],
   "source": [
    "num_profil = 19\n",
    "data = lecture(path, num_profil)\n",
    "dx, dt = dx_dt\n",
    "ns, ntr = data.shape\n",
    "if (num_profil % 2) == 0:\n",
    "    print(\"Le profil {0} est paire donc on inverse car trajet retour\".format(num_profil))\n",
    "    data =  np.fliplr(data)\n",
    "else:\n",
    "    print(\"Le profil {0} est impaire donc on l'inverse pas\".format(num_profil)) \n",
    "\n",
    "data_t0 = time_zero(data, dx_dt, t0)  \n",
    "ns, ntr = np.shape(data_t0)\n",
    "dataSVD = filt_SVD(data_t0, ns, ntr, SVmin, SVmax) \n",
    "data = np.squeeze(np.asarray(dataSVD))   \n",
    "data_g, fgain = user_gain(data, dx_dt, \"exponential\", (a, b), (tw0, ns*dt), return_fgain=True)"
   ]
  },
  {
   "cell_type": "code",
   "execution_count": 20,
   "metadata": {},
   "outputs": [
    {
     "data": {
      "application/vnd.jupyter.widget-view+json": {
       "model_id": "43a28da0836743ad85691f60326b574a",
       "version_major": 2,
       "version_minor": 0
      },
      "text/plain": [
       "interactive(children=(FloatSlider(value=25.0, description='x0', max=30.0, step=0.16863406408094433), FloatSlid…"
      ]
     },
     "metadata": {},
     "output_type": "display_data"
    }
   ],
   "source": [
    "xmax = longueur\n",
    "tmax = dt*ns\n",
    "x0_default = 25 # Distance (m) de l'apex de l'hyperbole le long du profil\n",
    "t0_default = 50 # TWT (ns) de l'apex de l'hyperbole\n",
    "v_default = 0.3 # vitesse du milieu en m/ns\n",
    "r_default = 0 # rayon (m) théorique de l'objet diffractant\n",
    "# Attention le calcul de l'hyperbole ne prend pas vraiment le rayon en compte. Enfin je crois...\n",
    "w_default = 3 # largeur de l'hyperbole (m)µ\n",
    "clip=0.3\n",
    "\n",
    "@interact\n",
    "def f(x0=FloatSlider(value=x0_default, min=0, max=xmax, step=10*dx), \n",
    "      t0=FloatSlider(value=t0_default, min=0, max=tmax, step=10*dt),\n",
    "      v=FloatSlider(value=v_default, min=0.03, max=0.3, step=0.005),\n",
    "      #r=FloatSlider(value=r_default, min=0, max=2, step=0.05),\n",
    "      width=FloatSlider(value=w_default, min=0, max=longueur, step=0.1)\n",
    "     ):\n",
    "    r=0.0\n",
    "    velocity_analysis(data_g, dx_dt, (x0, t0, v, r, width),clip, num_profil, False)\n",
    "    print((x0, t0, v, r, width))"
   ]
  },
  {
   "cell_type": "code",
   "execution_count": 21,
   "metadata": {},
   "outputs": [],
   "source": [
    "param =(9.27487, 10.16475, 0.095, 0.0, 0.9) #(25.63238, 56.29707, 0.3, 0.0, 11.5)\n",
    "#param =(25.63238, 56.29707, 0.3, 0.0, 11.5)"
   ]
  },
  {
   "cell_type": "markdown",
   "metadata": {},
   "source": [
    "## Migration de Stolt"
   ]
  },
  {
   "cell_type": "code",
   "execution_count": 22,
   "metadata": {},
   "outputs": [],
   "source": [
    "data_mig, dx_dz = stolt_migration(data_g, dx_dt, param[2])"
   ]
  },
  {
   "cell_type": "code",
   "execution_count": 23,
   "metadata": {},
   "outputs": [
    {
     "data": {
      "application/vnd.jupyter.widget-view+json": {
       "model_id": "34d7135425ef4760978634acffde8dd4",
       "version_major": 2,
       "version_minor": 0
      },
      "text/plain": [
       "interactive(children=(FloatLogSlider(value=0.3, description='clip', max=0.0, min=-5.0, step=0.5), Output()), _…"
      ]
     },
     "metadata": {},
     "output_type": "display_data"
    }
   ],
   "source": [
    "@interact\n",
    "def f(clip=FloatLogSlider(value=clip_default, min=-5, max=0, step=.5)):\n",
    "    velocity_analysis(data_mig, dx_dt, param, clip, num_profil, False)\n",
    "    "
   ]
  },
  {
   "cell_type": "code",
   "execution_count": 25,
   "metadata": {},
   "outputs": [
    {
     "name": "stdout",
     "output_type": "stream",
     "text": [
      "profondeur (m) = 0.482825625\n"
     ]
    }
   ],
   "source": [
    "print('profondeur (m) =', param[1]/2 * param[2])"
   ]
  },
  {
   "cell_type": "code",
   "execution_count": 28,
   "metadata": {},
   "outputs": [],
   "source": [
    "eps1=3\n",
    "eps2=100\n",
    "ref = (np.sqrt(eps1)-np.sqrt(eps2))/(np.sqrt(eps1)+np.sqrt(eps2))"
   ]
  },
  {
   "cell_type": "code",
   "execution_count": 29,
   "metadata": {},
   "outputs": [
    {
     "data": {
      "text/plain": [
       "-0.7047317922538399"
      ]
     },
     "execution_count": 29,
     "metadata": {},
     "output_type": "execute_result"
    }
   ],
   "source": [
    "ref"
   ]
  },
  {
   "cell_type": "code",
   "execution_count": null,
   "metadata": {},
   "outputs": [],
   "source": []
  }
 ],
 "metadata": {
  "kernelspec": {
   "display_name": "Python 3",
   "language": "python",
   "name": "python3"
  },
  "language_info": {
   "codemirror_mode": {
    "name": "ipython",
    "version": 3
   },
   "file_extension": ".py",
   "mimetype": "text/x-python",
   "name": "python",
   "nbconvert_exporter": "python",
   "pygments_lexer": "ipython3",
   "version": "3.7.9"
  }
 },
 "nbformat": 4,
 "nbformat_minor": 4
}
